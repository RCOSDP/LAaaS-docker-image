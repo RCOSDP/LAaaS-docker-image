{
 "cells": [
  {
   "cell_type": "code",
   "execution_count": null,
   "metadata": {},
   "outputs": [],
   "source": [
    "import json\n",
    "import requests\n",
    "import socket\n",
    "\n",
    "import matplotlib.pyplot as plt\n",
    "import pandas as pd\n",
    "import seaborn as sns"
   ]
  },
  {
   "cell_type": "code",
   "execution_count": null,
   "metadata": {},
   "outputs": [],
   "source": [
    "# 以降でデータフレームを表示する際の最大表示列数を指定\n",
    "pd.set_option('display.max_columns', 100)"
   ]
  },
  {
   "cell_type": "code",
   "execution_count": null,
   "metadata": {},
   "outputs": [],
   "source": [
    "# http://docs.learninglocker.net/http-aggregation/\n",
    "url = 'http://{}:8080/statements/aggregate?cache=false&maxTimeMS=5000&maxScan=10000&pipeline=%5B%7B%22%24limit%22%3A%203000%7D%2C%20%7B%22%24project%22%3A%20%7B%20%22statement%22%3A%201%2C%20%22_id%22%3A%200%20%7D%7D%5D'.format(socket.gethostbyname('learninglocker'))\n",
    "# Learning Lockerのクライアント情報を設定\n",
    "user = 'de25a0afae3d21b67a7278a330ce6de115ba3c77'\n",
    "passwd = '42df984faf8f4ed457be5a85477df23a9e3cc62e'"
   ]
  },
  {
   "cell_type": "code",
   "execution_count": null,
   "metadata": {},
   "outputs": [],
   "source": [
    "# Learning LockerのAGGREGATION APIでxAPIステートメントを取得\n",
    "r = requests.get(url, auth=(user, passwd))\n",
    "# Jsonを辞書型に変換\n",
    "response_data = json.loads(r.text)\n",
    "response_data"
   ]
  },
  {
   "cell_type": "code",
   "execution_count": null,
   "metadata": {},
   "outputs": [],
   "source": [
    "# 辞書からステートメントのみを抽出\n",
    "stats = [d['statement'] for d in response_data]"
   ]
  },
  {
   "cell_type": "code",
   "execution_count": null,
   "metadata": {},
   "outputs": [],
   "source": [
    "# ネスト項目をフラットにしてpandasのDataFrameを作成\n",
    "df = pd.io.json.json_normalize(stats)\n",
    "# 先頭5件のみ確認\n",
    "df.head()"
   ]
  },
  {
   "cell_type": "code",
   "execution_count": null,
   "metadata": {},
   "outputs": [],
   "source": [
    "# イベントの件数を集計\n",
    "plt.figure(figsize=(10, 10))\n",
    "plt.rcParams[\"font.size\"] = 20\n",
    "sns.countplot(y='verb.display.en', data=df)"
   ]
  }
 ],
 "metadata": {
  "kernelspec": {
   "display_name": "Python 3",
   "language": "python",
   "name": "python3"
  },
  "language_info": {
   "codemirror_mode": {
    "name": "ipython",
    "version": 3
   },
   "file_extension": ".py",
   "mimetype": "text/x-python",
   "name": "python",
   "nbconvert_exporter": "python",
   "pygments_lexer": "ipython3",
   "version": "3.7.4"
  }
 },
 "nbformat": 4,
 "nbformat_minor": 2
}
