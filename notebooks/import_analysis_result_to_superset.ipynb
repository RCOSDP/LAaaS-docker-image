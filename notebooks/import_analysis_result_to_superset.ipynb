{
 "cells": [
  {
   "cell_type": "code",
   "execution_count": null,
   "metadata": {},
   "outputs": [],
   "source": [
    "import json\n",
    "import requests\n",
    "import socket\n",
    "\n",
    "import matplotlib.pyplot as plt\n",
    "import numpy as np\n",
    "import pandas as pd\n",
    "import psycopg2\n",
    "import seaborn as sns\n",
    "from sqlalchemy import create_engine"
   ]
  },
  {
   "cell_type": "code",
   "execution_count": null,
   "metadata": {},
   "outputs": [],
   "source": [
    "# superset-dbコンテナのjupyterデータベースを指定（変更不可）\n",
    "engine = create_engine('postgresql://postgres@superset-db:5432/jupyter')"
   ]
  },
  {
   "cell_type": "code",
   "execution_count": null,
   "metadata": {},
   "outputs": [],
   "source": [
    "# ステートメントをAPIサーバから取得（以下はxAPIステートメント取得の例）\n",
    "\n",
    "## http://docs.learninglocker.net/http-aggregation/\n",
    "url = 'http://{}:8080/statements/aggregate?cache=false&maxTimeMS=5000&maxScan=10000&pipeline=%5B%7B%22%24limit%22%3A%203000%7D%2C%20%7B%22%24project%22%3A%20%7B%20%22statement%22%3A%201%2C%20%22_id%22%3A%200%20%7D%7D%5D'.format(socket.gethostbyname('learninglocker'))\n",
    "## Learning Lockerのクライアント情報を設定\n",
    "user = 'de25a0afae3d21b67a7278a330ce6de115ba3c77'\n",
    "passwd = '42df984faf8f4ed457be5a85477df23a9e3cc62e'\n",
    "## Learning LockerのAGGREGATION APIでxAPIステートメントを取得\n",
    "r = requests.get(url, auth=(user, passwd))\n",
    "## Jsonを辞書型に変換\n",
    "response_data = json.loads(r.text)\n",
    "## 辞書からステートメントのみを抽出\n",
    "stats = [d['statement'] for d in response_data]\n"
   ]
  },
  {
   "cell_type": "code",
   "execution_count": null,
   "metadata": {},
   "outputs": [],
   "source": [
    "# ステートメントの分析\n",
    "# 分析結果は最終的にpandasのDataframe形式とすること\n",
    "\n",
    "## ネスト項目をフラットにしてpandasのDataFrameを作成\n",
    "df = pd.io.json.json_normalize(stats)\n",
    "## 特定ユーザのステートメントを選択\n",
    "df = df[df['actor.account.name'] == '2']\n",
    "## オブジェクトとタイムスタンプの射影\n",
    "df = df[['object.definition.description.en', 'object.id', 'timestamp']]\n",
    "df"
   ]
  },
  {
   "cell_type": "code",
   "execution_count": null,
   "metadata": {},
   "outputs": [],
   "source": [
    "# Supersetのjupyterデータベースに処理結果を保存\n",
    "# 次にエラーが表示される場合はテーブル名称を変更すること : ValueError: Table '<tablename>' already exists.\n",
    "\n",
    "tablename = 'user_2_objects'\n",
    "df.to_sql(tablename, engine)"
   ]
  }
 ],
 "metadata": {
  "kernelspec": {
   "display_name": "Python 3",
   "language": "python",
   "name": "python3"
  },
  "language_info": {
   "codemirror_mode": {
    "name": "ipython",
    "version": 3
   },
   "file_extension": ".py",
   "mimetype": "text/x-python",
   "name": "python",
   "nbconvert_exporter": "python",
   "pygments_lexer": "ipython3",
   "version": "3.7.4"
  }
 },
 "nbformat": 4,
 "nbformat_minor": 2
}
