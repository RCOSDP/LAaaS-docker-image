{
 "cells": [
  {
   "cell_type": "code",
   "execution_count": null,
   "metadata": {},
   "outputs": [],
   "source": [
    "import json\n",
    "import requests\n",
    "\n",
    "url = 'http://openlrw:9966/api/auth/login'\n",
    "\n",
    "headers = {\n",
    "    'X-Requested-With': 'XMLHttpRequest',\n",
    "    'Content-Type': 'application/json',\n",
    "}\n",
    "\n",
    "# see db.adminUser\n",
    "admin_user = {\n",
    "    'username': '3e81cd30-e8a9-4533-b179-38c6999a9705',\n",
    "    'password': '573e833f-a3ac-490f-815a-0d3bc7dd9f76'\n",
    "}\n",
    "\n",
    "res = requests.post(url=url, data=json.dumps(admin_user), headers=headers)\n",
    "jwt = res.json()[\"token\"]"
   ]
  },
  {
   "cell_type": "code",
   "execution_count": null,
   "metadata": {},
   "outputs": [],
   "source": [
    "url = 'http://openlrw:9966/api/events'\n",
    "\n",
    "headers = {\n",
    "    'Content-Type': 'application/json',\n",
    "    'Authorization': f\"Bearer {jwt}\"\n",
    "}\n",
    "\n",
    "res = requests.get(url=url, headers=headers)\n",
    "print(json.dumps(res.json(), indent=2))"
   ]
  }
 ],
 "metadata": {
  "kernelspec": {
   "display_name": "Python 3",
   "language": "python",
   "name": "python3"
  },
  "language_info": {
   "codemirror_mode": {
    "name": "ipython",
    "version": 3
   },
   "file_extension": ".py",
   "mimetype": "text/x-python",
   "name": "python",
   "nbconvert_exporter": "python",
   "pygments_lexer": "ipython3",
   "version": "3.7.4"
  }
 },
 "nbformat": 4,
 "nbformat_minor": 2
}
